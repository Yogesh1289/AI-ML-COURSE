{
 "cells": [
  {
   "cell_type": "code",
   "execution_count": 1,
   "id": "1453629c-3534-4eae-bb44-af205c29c881",
   "metadata": {},
   "outputs": [],
   "source": [
    "import numpy as np"
   ]
  },
  {
   "cell_type": "code",
   "execution_count": 3,
   "id": "bdd28b38-b0cc-4841-9b55-23ba953323fc",
   "metadata": {},
   "outputs": [],
   "source": [
    "import pandas as pd"
   ]
  },
  {
   "cell_type": "code",
   "execution_count": 7,
   "id": "03e4a3d0-edec-4faa-a483-df18bd7ed1c2",
   "metadata": {},
   "outputs": [
    {
     "data": {
      "text/plain": [
       "<function numpy.random.mtrand.seed>"
      ]
     },
     "execution_count": 7,
     "metadata": {},
     "output_type": "execute_result"
    }
   ],
   "source": [
    "np.random.seed"
   ]
  },
  {
   "cell_type": "code",
   "execution_count": 15,
   "id": "d40d454b-9d9e-4465-8303-163e0e851f4e",
   "metadata": {},
   "outputs": [],
   "source": [
    "apartments = [f\"Apt_(i)\" for i in range(1,21)]"
   ]
  },
  {
   "cell_type": "code",
   "execution_count": 17,
   "id": "8717caa6-15bf-401e-a2d9-a7c6155b6df6",
   "metadata": {},
   "outputs": [],
   "source": [
    "dates = pd.date_range(start=\"2025-07-01\",periods=30,freq='D')"
   ]
  },
  {
   "cell_type": "code",
   "execution_count": 19,
   "id": "3e83b085-9e11-43db-846c-492be507a941",
   "metadata": {},
   "outputs": [],
   "source": [
    "data={\n",
    "    \"Date\":np.tile(dates,len(apartments)),\n",
    "    \"Apartment\":np.repeat(apartments, len(dates)),\n",
    "    \"Electricity_usage\":np.random.normal(loc=20,scale=5,size=len(dates)* len(apartments))\n",
    "}"
   ]
  },
  {
   "cell_type": "code",
   "execution_count": 21,
   "id": "18b18aa1-0028-441c-bbe0-f46e415e3175",
   "metadata": {},
   "outputs": [],
   "source": [
    "df=pd.DataFrame(data)"
   ]
  },
  {
   "cell_type": "code",
   "execution_count": 23,
   "id": "7e27d4f3-8304-48ff-bc7d-0e0cb4804043",
   "metadata": {},
   "outputs": [
    {
     "data": {
      "text/html": [
       "<div>\n",
       "<style scoped>\n",
       "    .dataframe tbody tr th:only-of-type {\n",
       "        vertical-align: middle;\n",
       "    }\n",
       "\n",
       "    .dataframe tbody tr th {\n",
       "        vertical-align: top;\n",
       "    }\n",
       "\n",
       "    .dataframe thead th {\n",
       "        text-align: right;\n",
       "    }\n",
       "</style>\n",
       "<table border=\"1\" class=\"dataframe\">\n",
       "  <thead>\n",
       "    <tr style=\"text-align: right;\">\n",
       "      <th></th>\n",
       "      <th>Date</th>\n",
       "      <th>Apartment</th>\n",
       "      <th>Electricity_usage</th>\n",
       "    </tr>\n",
       "  </thead>\n",
       "  <tbody>\n",
       "    <tr>\n",
       "      <th>0</th>\n",
       "      <td>2025-07-01</td>\n",
       "      <td>Apt_(i)</td>\n",
       "      <td>19.186079</td>\n",
       "    </tr>\n",
       "    <tr>\n",
       "      <th>1</th>\n",
       "      <td>2025-07-02</td>\n",
       "      <td>Apt_(i)</td>\n",
       "      <td>24.021749</td>\n",
       "    </tr>\n",
       "    <tr>\n",
       "      <th>2</th>\n",
       "      <td>2025-07-03</td>\n",
       "      <td>Apt_(i)</td>\n",
       "      <td>18.181611</td>\n",
       "    </tr>\n",
       "    <tr>\n",
       "      <th>3</th>\n",
       "      <td>2025-07-04</td>\n",
       "      <td>Apt_(i)</td>\n",
       "      <td>23.414915</td>\n",
       "    </tr>\n",
       "    <tr>\n",
       "      <th>4</th>\n",
       "      <td>2025-07-05</td>\n",
       "      <td>Apt_(i)</td>\n",
       "      <td>20.145907</td>\n",
       "    </tr>\n",
       "    <tr>\n",
       "      <th>...</th>\n",
       "      <td>...</td>\n",
       "      <td>...</td>\n",
       "      <td>...</td>\n",
       "    </tr>\n",
       "    <tr>\n",
       "      <th>595</th>\n",
       "      <td>2025-07-26</td>\n",
       "      <td>Apt_(i)</td>\n",
       "      <td>16.063348</td>\n",
       "    </tr>\n",
       "    <tr>\n",
       "      <th>596</th>\n",
       "      <td>2025-07-27</td>\n",
       "      <td>Apt_(i)</td>\n",
       "      <td>15.917928</td>\n",
       "    </tr>\n",
       "    <tr>\n",
       "      <th>597</th>\n",
       "      <td>2025-07-28</td>\n",
       "      <td>Apt_(i)</td>\n",
       "      <td>15.818895</td>\n",
       "    </tr>\n",
       "    <tr>\n",
       "      <th>598</th>\n",
       "      <td>2025-07-29</td>\n",
       "      <td>Apt_(i)</td>\n",
       "      <td>15.036044</td>\n",
       "    </tr>\n",
       "    <tr>\n",
       "      <th>599</th>\n",
       "      <td>2025-07-30</td>\n",
       "      <td>Apt_(i)</td>\n",
       "      <td>23.297888</td>\n",
       "    </tr>\n",
       "  </tbody>\n",
       "</table>\n",
       "<p>600 rows × 3 columns</p>\n",
       "</div>"
      ],
      "text/plain": [
       "          Date Apartment  Electricity_usage\n",
       "0   2025-07-01   Apt_(i)          19.186079\n",
       "1   2025-07-02   Apt_(i)          24.021749\n",
       "2   2025-07-03   Apt_(i)          18.181611\n",
       "3   2025-07-04   Apt_(i)          23.414915\n",
       "4   2025-07-05   Apt_(i)          20.145907\n",
       "..         ...       ...                ...\n",
       "595 2025-07-26   Apt_(i)          16.063348\n",
       "596 2025-07-27   Apt_(i)          15.917928\n",
       "597 2025-07-28   Apt_(i)          15.818895\n",
       "598 2025-07-29   Apt_(i)          15.036044\n",
       "599 2025-07-30   Apt_(i)          23.297888\n",
       "\n",
       "[600 rows x 3 columns]"
      ]
     },
     "execution_count": 23,
     "metadata": {},
     "output_type": "execute_result"
    }
   ],
   "source": [
    "df"
   ]
  },
  {
   "cell_type": "code",
   "execution_count": 25,
   "id": "c58a4132-c120-4dff-a74a-a0a4afd4c530",
   "metadata": {},
   "outputs": [],
   "source": [
    "df[\"Electricity_usage\"]=df[\"Electricity_usage\"].round(2)"
   ]
  },
  {
   "cell_type": "code",
   "execution_count": 27,
   "id": "e7542622-52df-47e2-b32f-e4d7b024b6a9",
   "metadata": {},
   "outputs": [
    {
     "data": {
      "text/html": [
       "<div>\n",
       "<style scoped>\n",
       "    .dataframe tbody tr th:only-of-type {\n",
       "        vertical-align: middle;\n",
       "    }\n",
       "\n",
       "    .dataframe tbody tr th {\n",
       "        vertical-align: top;\n",
       "    }\n",
       "\n",
       "    .dataframe thead th {\n",
       "        text-align: right;\n",
       "    }\n",
       "</style>\n",
       "<table border=\"1\" class=\"dataframe\">\n",
       "  <thead>\n",
       "    <tr style=\"text-align: right;\">\n",
       "      <th></th>\n",
       "      <th>Date</th>\n",
       "      <th>Apartment</th>\n",
       "      <th>Electricity_usage</th>\n",
       "    </tr>\n",
       "  </thead>\n",
       "  <tbody>\n",
       "    <tr>\n",
       "      <th>0</th>\n",
       "      <td>2025-07-01</td>\n",
       "      <td>Apt_(i)</td>\n",
       "      <td>19.19</td>\n",
       "    </tr>\n",
       "    <tr>\n",
       "      <th>1</th>\n",
       "      <td>2025-07-02</td>\n",
       "      <td>Apt_(i)</td>\n",
       "      <td>24.02</td>\n",
       "    </tr>\n",
       "    <tr>\n",
       "      <th>2</th>\n",
       "      <td>2025-07-03</td>\n",
       "      <td>Apt_(i)</td>\n",
       "      <td>18.18</td>\n",
       "    </tr>\n",
       "    <tr>\n",
       "      <th>3</th>\n",
       "      <td>2025-07-04</td>\n",
       "      <td>Apt_(i)</td>\n",
       "      <td>23.41</td>\n",
       "    </tr>\n",
       "    <tr>\n",
       "      <th>4</th>\n",
       "      <td>2025-07-05</td>\n",
       "      <td>Apt_(i)</td>\n",
       "      <td>20.15</td>\n",
       "    </tr>\n",
       "    <tr>\n",
       "      <th>...</th>\n",
       "      <td>...</td>\n",
       "      <td>...</td>\n",
       "      <td>...</td>\n",
       "    </tr>\n",
       "    <tr>\n",
       "      <th>595</th>\n",
       "      <td>2025-07-26</td>\n",
       "      <td>Apt_(i)</td>\n",
       "      <td>16.06</td>\n",
       "    </tr>\n",
       "    <tr>\n",
       "      <th>596</th>\n",
       "      <td>2025-07-27</td>\n",
       "      <td>Apt_(i)</td>\n",
       "      <td>15.92</td>\n",
       "    </tr>\n",
       "    <tr>\n",
       "      <th>597</th>\n",
       "      <td>2025-07-28</td>\n",
       "      <td>Apt_(i)</td>\n",
       "      <td>15.82</td>\n",
       "    </tr>\n",
       "    <tr>\n",
       "      <th>598</th>\n",
       "      <td>2025-07-29</td>\n",
       "      <td>Apt_(i)</td>\n",
       "      <td>15.04</td>\n",
       "    </tr>\n",
       "    <tr>\n",
       "      <th>599</th>\n",
       "      <td>2025-07-30</td>\n",
       "      <td>Apt_(i)</td>\n",
       "      <td>23.30</td>\n",
       "    </tr>\n",
       "  </tbody>\n",
       "</table>\n",
       "<p>600 rows × 3 columns</p>\n",
       "</div>"
      ],
      "text/plain": [
       "          Date Apartment  Electricity_usage\n",
       "0   2025-07-01   Apt_(i)              19.19\n",
       "1   2025-07-02   Apt_(i)              24.02\n",
       "2   2025-07-03   Apt_(i)              18.18\n",
       "3   2025-07-04   Apt_(i)              23.41\n",
       "4   2025-07-05   Apt_(i)              20.15\n",
       "..         ...       ...                ...\n",
       "595 2025-07-26   Apt_(i)              16.06\n",
       "596 2025-07-27   Apt_(i)              15.92\n",
       "597 2025-07-28   Apt_(i)              15.82\n",
       "598 2025-07-29   Apt_(i)              15.04\n",
       "599 2025-07-30   Apt_(i)              23.30\n",
       "\n",
       "[600 rows x 3 columns]"
      ]
     },
     "execution_count": 27,
     "metadata": {},
     "output_type": "execute_result"
    }
   ],
   "source": [
    "df"
   ]
  },
  {
   "cell_type": "code",
   "execution_count": 29,
   "id": "49626964-af2b-4516-adeb-50a7a43d3635",
   "metadata": {},
   "outputs": [
    {
     "name": "stdout",
     "output_type": "stream",
     "text": [
      "Date                 0\n",
      "Apartment            0\n",
      "Electricity_usage    0\n",
      "dtype: int64\n"
     ]
    }
   ],
   "source": [
    "print(df.isnull().sum())"
   ]
  },
  {
   "cell_type": "code",
   "execution_count": 31,
   "id": "2057a7dc-8b5c-45d3-8f83-26662376b5b6",
   "metadata": {},
   "outputs": [
    {
     "name": "stdout",
     "output_type": "stream",
     "text": [
      "                      Date  Electricity_usage\n",
      "count                  600         600.000000\n",
      "mean   2025-07-15 12:00:00          19.420017\n",
      "min    2025-07-01 00:00:00           4.220000\n",
      "25%    2025-07-08 00:00:00          15.815000\n",
      "50%    2025-07-15 12:00:00          19.120000\n",
      "75%    2025-07-23 00:00:00          22.842500\n",
      "max    2025-07-30 00:00:00          34.550000\n",
      "std                    NaN           5.225935\n"
     ]
    }
   ],
   "source": [
    "print(df.describe())"
   ]
  },
  {
   "cell_type": "code",
   "execution_count": 35,
   "id": "830650f6-b9ab-4f5b-bc58-393f58a60478",
   "metadata": {},
   "outputs": [
    {
     "name": "stdout",
     "output_type": "stream",
     "text": [
      "Date                 datetime64[ns]\n",
      "Apartment                    object\n",
      "Electricity_usage           float64\n",
      "dtype: object\n"
     ]
    }
   ],
   "source": [
    "print(df.dtypes)"
   ]
  },
  {
   "cell_type": "code",
   "execution_count": 41,
   "id": "c5f3e939-8c3f-4b04-82b1-32db92a2c840",
   "metadata": {},
   "outputs": [
    {
     "name": "stdout",
     "output_type": "stream",
     "text": [
      "Date                 0\n",
      "Apartment            0\n",
      "Electricity_usage    0\n",
      "dtype: int64\n",
      "                      Date  Electricity_usage\n",
      "count                  600         600.000000\n",
      "mean   2025-07-15 12:00:00          19.932500\n",
      "min    2025-07-01 00:00:00           3.790000\n",
      "25%    2025-07-08 00:00:00          16.530000\n",
      "50%    2025-07-15 12:00:00          20.040000\n",
      "75%    2025-07-23 00:00:00          23.112500\n",
      "max    2025-07-30 00:00:00          39.260000\n",
      "std                    NaN           4.861071\n",
      "Date                 datetime64[ns]\n",
      "Apartment                    object\n",
      "Electricity_usage           float64\n",
      "dtype: object\n",
      "Apartment\n",
      "apy_11    642.31\n",
      "apy_6     641.82\n",
      "apy_13    634.22\n",
      "apy_10    616.09\n",
      "apy_20    613.14\n",
      "apy_7     609.87\n",
      "apy_8     607.18\n",
      "apy_16    606.97\n",
      "apy_14    604.33\n",
      "apy_3     601.93\n",
      "apy_4     596.99\n",
      "apy_15    591.38\n",
      "apy_19    586.61\n",
      "apy_5     585.76\n",
      "apy_2     581.81\n",
      "apy_9     578.48\n",
      "apy_1     571.80\n",
      "apy_17    570.33\n",
      "apy_12    568.99\n",
      "apy_18    549.49\n",
      "Name: Electricity_usage, dtype: float64\n",
      "Date\n",
      "2025-07-01    21.0440\n",
      "2025-07-02    20.8695\n",
      "2025-07-03    19.5685\n",
      "2025-07-04    20.9855\n",
      "2025-07-05    19.7835\n",
      "Name: Electricity_usage, dtype: float64\n"
     ]
    }
   ],
   "source": [
    "import numpy as np\n",
    "import pandas as pd\n",
    "np.random.seed(42)\n",
    "apartments=[f\"apy_{i}\" for i in range (1,21)]\n",
    "dates=pd.date_range(start=\"2025-07-01\",periods=30,freq=\"D\")\n",
    "data={\n",
    "    \"Date\":np.tile(dates,len(apartments)),\n",
    "    \"Apartment\":np.repeat(apartments,len(dates)),\n",
    "    \"Electricity_usage\":np.random.normal(loc=20,scale=5,size=len(dates)*len(apartments))}\n",
    "df=pd.DataFrame(data)\n",
    "df\n",
    "df[\"Electricity_usage\"]=df[\"Electricity_usage\"].round(2)\n",
    "df\n",
    "print(df.isnull().sum())\n",
    "print(df.describe())\n",
    "print(df.dtypes)\n",
    "usage_per_apartment=df.groupby(\"Apartment\")[\"Electricity_usage\"].sum().sort_values(ascending=False)\n",
    "print(usage_per_apartment)\n",
    "daily_avg=df.groupby(\"Date\")[\"Electricity_usage\"].mean()\n",
    "print(daily_avg.head())"
   ]
  },
  {
   "cell_type": "code",
   "execution_count": 43,
   "id": "78ceb3dc-c0b2-4861-813c-a8af14b78907",
   "metadata": {},
   "outputs": [
    {
     "data": {
      "image/png": "[encoded data removed]",
      "text/plain": [
       "<Figure size 1000x600 with 1 Axes>"
      ]
     },
     "metadata": {},
     "output_type": "display_data"
    }
   ],
   "source": [
    "import matplotlib.pyplot as plt\n",
    "import seaborn as sns\n",
    "plt.figure(figsize=(10,6))\n",
    "sns.barplot(x=usage_per_apartment.index, y=usage_per_apartment.values)\n",
    "plt.xticks(rotation=90)\n",
    "plt.title(\"Total usage per Apartments\")\n",
    "plt.xlabel(\"Apartment\")\n",
    "plt.ylabel(\"Total KWH\")\n",
    "plt.tight_layout()\n",
    "plt.show()"
   ]
  },
  {
   "cell_type": "code",
   "execution_count": 47,
   "id": "c36bb95d-adb6-4817-b0e0-43729c9ecade",
   "metadata": {},
   "outputs": [
    {
     "data": {
      "image/png": "[encoded data removed]",
      "text/plain": [
       "<Figure size 1000x600 with 1 Axes>"
      ]
     },
     "metadata": {},
     "output_type": "display_data"
    }
   ],
   "source": [
    "plt.figure(figsize=(10,6))\n",
    "sns.lineplot(x=daily_avg.index,y=daily_avg.values)\n",
    "plt.title(\"Daily average electicity usage\")\n",
    "plt.xlabel(\"Date\")\n",
    "plt.ylabel(\"Total Kwh\")\n",
    "plt.tight_layout()\n",
    "plt.show()"
   ]
  },
  {
   "cell_type": "code",
   "execution_count": 49,
   "id": "a4aec85f-bcb8-4731-85bb-979f1c754c65",
   "metadata": {},
   "outputs": [
    {
     "name": "stdout",
     "output_type": "stream",
     "text": [
      "          Date Apartment  Electricity_usage  High_Usage_flag\n",
      "113 2025-07-24     apy_4              32.32             True\n",
      "125 2025-07-06     apy_5              30.95             True\n",
      "179 2025-07-30     apy_6              33.60             True\n",
      "209 2025-07-30     apy_7              39.26             True\n",
      "220 2025-07-11     apy_8              31.57             True\n"
     ]
    }
   ],
   "source": [
    "threshold= df[\"Electricity_usage\"].mean()+2 *df [\"Electricity_usage\"].std()\n",
    "df[\"High_Usage_flag\"]=df[\"Electricity_usage\"] > threshold\n",
    "print (df[df [\"High_Usage_flag\"] == True].head())"
   ]
  },
  {
   "cell_type": "code",
   "execution_count": null,
   "id": "3da10aad-6b06-4ccf-a5cf-f27407c0dac0",
   "metadata": {},
   "outputs": [],
   "source": []
  }
 ],
 "metadata": {
  "kernelspec": {
   "display_name": "Python 3 (ipykernel)",
   "language": "python",
   "name": "python3"
  },
  "language_info": {
   "codemirror_mode": {
    "name": "ipython",
    "version": 3
   },
   "file_extension": ".py",
   "mimetype": "text/x-python",
   "name": "python",
   "nbconvert_exporter": "python",
   "pygments_lexer": "ipython3",
   "version": "3.12.4"
  }
 },
 "nbformat": 4,
 "nbformat_minor": 5
}
